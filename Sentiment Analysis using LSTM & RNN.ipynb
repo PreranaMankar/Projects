{
 "cells": [
  {
   "cell_type": "markdown",
   "id": "bc571182",
   "metadata": {},
   "source": [
    "# Sentiment Analysis"
   ]
  },
  {
   "cell_type": "code",
   "execution_count": 86,
   "id": "284d496b",
   "metadata": {},
   "outputs": [],
   "source": [
    "# Importing all important libraries for data processing and model building.\n",
    "\n",
    "import numpy as np  # Linear algebra\n",
    "import pandas as pd # data preprocessing, CSV file I/O \n",
    "import tensorflow as tf\n",
    "from tensorflow.keras.preprocessing.text import Tokenizer\n",
    "from tensorflow.keras.preprocessing import sequence\n",
    "from tensorflow.keras.models import Sequential\n",
    "from tensorflow.keras.layers import Embedding, SimpleRNN, Dense\n",
    "from keras.utils import to_categorical\n",
    "import re\n",
    "import warnings\n",
    "warnings.filterwarnings('ignore')"
   ]
  },
  {
   "cell_type": "markdown",
   "id": "8b4c05c9",
   "metadata": {},
   "source": [
    "### Loading dataset"
   ]
  },
  {
   "cell_type": "code",
   "execution_count": 2,
   "id": "e6938105",
   "metadata": {},
   "outputs": [],
   "source": [
    "train_ds = pd.read_csv(r\"C:\\Users\\Prerana\\Desktop\\Data Science\\Projects\\Sentiments\\train.csv\",encoding = 'latin1')\n",
    "test_ds = pd.read_csv(r\"C:\\Users\\Prerana\\Desktop\\Data Science\\Projects\\Sentiments\\test.csv\",encoding= 'latin1')"
   ]
  },
  {
   "cell_type": "code",
   "execution_count": 3,
   "id": "8b3bcc61",
   "metadata": {},
   "outputs": [
    {
     "data": {
      "text/html": [
       "<div>\n",
       "<style scoped>\n",
       "    .dataframe tbody tr th:only-of-type {\n",
       "        vertical-align: middle;\n",
       "    }\n",
       "\n",
       "    .dataframe tbody tr th {\n",
       "        vertical-align: top;\n",
       "    }\n",
       "\n",
       "    .dataframe thead th {\n",
       "        text-align: right;\n",
       "    }\n",
       "</style>\n",
       "<table border=\"1\" class=\"dataframe\">\n",
       "  <thead>\n",
       "    <tr style=\"text-align: right;\">\n",
       "      <th></th>\n",
       "      <th>textID</th>\n",
       "      <th>text</th>\n",
       "      <th>selected_text</th>\n",
       "      <th>sentiment</th>\n",
       "      <th>Time of Tweet</th>\n",
       "      <th>Age of User</th>\n",
       "      <th>Country</th>\n",
       "      <th>Population -2020</th>\n",
       "      <th>Land Area (Km²)</th>\n",
       "      <th>Density (P/Km²)</th>\n",
       "    </tr>\n",
       "  </thead>\n",
       "  <tbody>\n",
       "    <tr>\n",
       "      <th>0</th>\n",
       "      <td>cb774db0d1</td>\n",
       "      <td>I`d have responded, if I were going</td>\n",
       "      <td>I`d have responded, if I were going</td>\n",
       "      <td>neutral</td>\n",
       "      <td>morning</td>\n",
       "      <td>0-20</td>\n",
       "      <td>Afghanistan</td>\n",
       "      <td>38928346</td>\n",
       "      <td>652860.0</td>\n",
       "      <td>60</td>\n",
       "    </tr>\n",
       "    <tr>\n",
       "      <th>1</th>\n",
       "      <td>549e992a42</td>\n",
       "      <td>Sooo SAD I will miss you here in San Diego!!!</td>\n",
       "      <td>Sooo SAD</td>\n",
       "      <td>negative</td>\n",
       "      <td>noon</td>\n",
       "      <td>21-30</td>\n",
       "      <td>Albania</td>\n",
       "      <td>2877797</td>\n",
       "      <td>27400.0</td>\n",
       "      <td>105</td>\n",
       "    </tr>\n",
       "    <tr>\n",
       "      <th>2</th>\n",
       "      <td>088c60f138</td>\n",
       "      <td>my boss is bullying me...</td>\n",
       "      <td>bullying me</td>\n",
       "      <td>negative</td>\n",
       "      <td>night</td>\n",
       "      <td>31-45</td>\n",
       "      <td>Algeria</td>\n",
       "      <td>43851044</td>\n",
       "      <td>2381740.0</td>\n",
       "      <td>18</td>\n",
       "    </tr>\n",
       "    <tr>\n",
       "      <th>3</th>\n",
       "      <td>9642c003ef</td>\n",
       "      <td>what interview! leave me alone</td>\n",
       "      <td>leave me alone</td>\n",
       "      <td>negative</td>\n",
       "      <td>morning</td>\n",
       "      <td>46-60</td>\n",
       "      <td>Andorra</td>\n",
       "      <td>77265</td>\n",
       "      <td>470.0</td>\n",
       "      <td>164</td>\n",
       "    </tr>\n",
       "    <tr>\n",
       "      <th>4</th>\n",
       "      <td>358bd9e861</td>\n",
       "      <td>Sons of ****, why couldn`t they put them on t...</td>\n",
       "      <td>Sons of ****,</td>\n",
       "      <td>negative</td>\n",
       "      <td>noon</td>\n",
       "      <td>60-70</td>\n",
       "      <td>Angola</td>\n",
       "      <td>32866272</td>\n",
       "      <td>1246700.0</td>\n",
       "      <td>26</td>\n",
       "    </tr>\n",
       "  </tbody>\n",
       "</table>\n",
       "</div>"
      ],
      "text/plain": [
       "       textID                                               text  \\\n",
       "0  cb774db0d1                I`d have responded, if I were going   \n",
       "1  549e992a42      Sooo SAD I will miss you here in San Diego!!!   \n",
       "2  088c60f138                          my boss is bullying me...   \n",
       "3  9642c003ef                     what interview! leave me alone   \n",
       "4  358bd9e861   Sons of ****, why couldn`t they put them on t...   \n",
       "\n",
       "                         selected_text sentiment Time of Tweet Age of User  \\\n",
       "0  I`d have responded, if I were going   neutral       morning        0-20   \n",
       "1                             Sooo SAD  negative          noon       21-30   \n",
       "2                          bullying me  negative         night       31-45   \n",
       "3                       leave me alone  negative       morning       46-60   \n",
       "4                        Sons of ****,  negative          noon       60-70   \n",
       "\n",
       "       Country  Population -2020  Land Area (Km²)  Density (P/Km²)  \n",
       "0  Afghanistan          38928346         652860.0               60  \n",
       "1      Albania           2877797          27400.0              105  \n",
       "2      Algeria          43851044        2381740.0               18  \n",
       "3      Andorra             77265            470.0              164  \n",
       "4       Angola          32866272        1246700.0               26  "
      ]
     },
     "execution_count": 3,
     "metadata": {},
     "output_type": "execute_result"
    }
   ],
   "source": [
    "train_ds.head()"
   ]
  },
  {
   "cell_type": "markdown",
   "id": "c83d3cda",
   "metadata": {},
   "source": [
    "### Data Preprocessing"
   ]
  },
  {
   "cell_type": "code",
   "execution_count": 4,
   "id": "f626c23f",
   "metadata": {},
   "outputs": [],
   "source": [
    "# Removing the columns which are not required\n",
    "train_ds = train_ds[['text','sentiment']]\n",
    "test_ds = test_ds[['text','sentiment']]"
   ]
  },
  {
   "cell_type": "code",
   "execution_count": 5,
   "id": "397d8eef",
   "metadata": {},
   "outputs": [
    {
     "data": {
      "text/html": [
       "<div>\n",
       "<style scoped>\n",
       "    .dataframe tbody tr th:only-of-type {\n",
       "        vertical-align: middle;\n",
       "    }\n",
       "\n",
       "    .dataframe tbody tr th {\n",
       "        vertical-align: top;\n",
       "    }\n",
       "\n",
       "    .dataframe thead th {\n",
       "        text-align: right;\n",
       "    }\n",
       "</style>\n",
       "<table border=\"1\" class=\"dataframe\">\n",
       "  <thead>\n",
       "    <tr style=\"text-align: right;\">\n",
       "      <th></th>\n",
       "      <th>text</th>\n",
       "      <th>sentiment</th>\n",
       "    </tr>\n",
       "  </thead>\n",
       "  <tbody>\n",
       "    <tr>\n",
       "      <th>0</th>\n",
       "      <td>I`d have responded, if I were going</td>\n",
       "      <td>neutral</td>\n",
       "    </tr>\n",
       "    <tr>\n",
       "      <th>1</th>\n",
       "      <td>Sooo SAD I will miss you here in San Diego!!!</td>\n",
       "      <td>negative</td>\n",
       "    </tr>\n",
       "    <tr>\n",
       "      <th>2</th>\n",
       "      <td>my boss is bullying me...</td>\n",
       "      <td>negative</td>\n",
       "    </tr>\n",
       "    <tr>\n",
       "      <th>3</th>\n",
       "      <td>what interview! leave me alone</td>\n",
       "      <td>negative</td>\n",
       "    </tr>\n",
       "    <tr>\n",
       "      <th>4</th>\n",
       "      <td>Sons of ****, why couldn`t they put them on t...</td>\n",
       "      <td>negative</td>\n",
       "    </tr>\n",
       "  </tbody>\n",
       "</table>\n",
       "</div>"
      ],
      "text/plain": [
       "                                                text sentiment\n",
       "0                I`d have responded, if I were going   neutral\n",
       "1      Sooo SAD I will miss you here in San Diego!!!  negative\n",
       "2                          my boss is bullying me...  negative\n",
       "3                     what interview! leave me alone  negative\n",
       "4   Sons of ****, why couldn`t they put them on t...  negative"
      ]
     },
     "execution_count": 5,
     "metadata": {},
     "output_type": "execute_result"
    }
   ],
   "source": [
    "train_ds.head()"
   ]
  },
  {
   "cell_type": "code",
   "execution_count": 6,
   "id": "b83b5346",
   "metadata": {},
   "outputs": [
    {
     "data": {
      "text/plain": [
       "(27481, 2)"
      ]
     },
     "execution_count": 6,
     "metadata": {},
     "output_type": "execute_result"
    }
   ],
   "source": [
    "train_ds.shape"
   ]
  },
  {
   "cell_type": "code",
   "execution_count": 7,
   "id": "00217063",
   "metadata": {},
   "outputs": [
    {
     "data": {
      "text/plain": [
       "(4815, 2)"
      ]
     },
     "execution_count": 7,
     "metadata": {},
     "output_type": "execute_result"
    }
   ],
   "source": [
    "test_ds.shape"
   ]
  },
  {
   "cell_type": "code",
   "execution_count": 8,
   "id": "196c3cec",
   "metadata": {},
   "outputs": [
    {
     "name": "stdout",
     "output_type": "stream",
     "text": [
      "<class 'pandas.core.frame.DataFrame'>\n",
      "RangeIndex: 27481 entries, 0 to 27480\n",
      "Data columns (total 2 columns):\n",
      " #   Column     Non-Null Count  Dtype \n",
      "---  ------     --------------  ----- \n",
      " 0   text       27480 non-null  object\n",
      " 1   sentiment  27481 non-null  object\n",
      "dtypes: object(2)\n",
      "memory usage: 429.5+ KB\n"
     ]
    }
   ],
   "source": [
    "train_ds.info()"
   ]
  },
  {
   "cell_type": "code",
   "execution_count": 9,
   "id": "1adc89c6",
   "metadata": {},
   "outputs": [
    {
     "name": "stdout",
     "output_type": "stream",
     "text": [
      "<class 'pandas.core.frame.DataFrame'>\n",
      "RangeIndex: 4815 entries, 0 to 4814\n",
      "Data columns (total 2 columns):\n",
      " #   Column     Non-Null Count  Dtype \n",
      "---  ------     --------------  ----- \n",
      " 0   text       3534 non-null   object\n",
      " 1   sentiment  3534 non-null   object\n",
      "dtypes: object(2)\n",
      "memory usage: 75.4+ KB\n"
     ]
    }
   ],
   "source": [
    "test_ds.info()"
   ]
  },
  {
   "cell_type": "code",
   "execution_count": 10,
   "id": "54808f34",
   "metadata": {},
   "outputs": [
    {
     "data": {
      "text/plain": [
       "text         1\n",
       "sentiment    0\n",
       "dtype: int64"
      ]
     },
     "execution_count": 10,
     "metadata": {},
     "output_type": "execute_result"
    }
   ],
   "source": [
    "train_ds.isna().sum()"
   ]
  },
  {
   "cell_type": "code",
   "execution_count": 11,
   "id": "20b872cd",
   "metadata": {},
   "outputs": [
    {
     "data": {
      "text/plain": [
       "text         1281\n",
       "sentiment    1281\n",
       "dtype: int64"
      ]
     },
     "execution_count": 11,
     "metadata": {},
     "output_type": "execute_result"
    }
   ],
   "source": [
    "test_ds.isna().sum()"
   ]
  },
  {
   "cell_type": "code",
   "execution_count": 12,
   "id": "63f4c674",
   "metadata": {},
   "outputs": [],
   "source": [
    "# Filling the null values\n",
    "train_ds.fillna('',inplace=True)\n",
    "test_ds.fillna('',inplace=True)"
   ]
  },
  {
   "cell_type": "code",
   "execution_count": 13,
   "id": "4af8a99f",
   "metadata": {},
   "outputs": [
    {
     "data": {
      "text/plain": [
       "text         0\n",
       "sentiment    0\n",
       "dtype: int64"
      ]
     },
     "execution_count": 13,
     "metadata": {},
     "output_type": "execute_result"
    }
   ],
   "source": [
    "test_ds.isna().sum()"
   ]
  },
  {
   "cell_type": "code",
   "execution_count": 89,
   "id": "b17b05de",
   "metadata": {},
   "outputs": [
    {
     "data": {
      "text/plain": [
       "array(['neutral', 'negative', 'positive'], dtype=object)"
      ]
     },
     "execution_count": 89,
     "metadata": {},
     "output_type": "execute_result"
    }
   ],
   "source": [
    "# Checking for unique categories\n",
    "train_ds['sentiment'].unique()"
   ]
  },
  {
   "cell_type": "code",
   "execution_count": null,
   "id": "7b321b75",
   "metadata": {},
   "outputs": [],
   "source": [
    "# converting the categories in integer values "
   ]
  },
  {
   "cell_type": "code",
   "execution_count": 15,
   "id": "957b47d5",
   "metadata": {},
   "outputs": [],
   "source": [
    "lables = []\n",
    "for i in train_ds['sentiment']:\n",
    "    if i == 'positive':\n",
    "        lables.append(0)\n",
    "    elif i == 'negative':\n",
    "        lables.append(1)\n",
    "    else:\n",
    "        lables.append(2)"
   ]
  },
  {
   "cell_type": "code",
   "execution_count": 16,
   "id": "16160ca0",
   "metadata": {},
   "outputs": [
    {
     "data": {
      "text/plain": [
       "array([2, 1, 1, ..., 0, 0, 2])"
      ]
     },
     "execution_count": 16,
     "metadata": {},
     "output_type": "execute_result"
    }
   ],
   "source": [
    "lables = np.array(lables)\n",
    "lables"
   ]
  },
  {
   "cell_type": "code",
   "execution_count": 17,
   "id": "c1d71d3d",
   "metadata": {},
   "outputs": [],
   "source": [
    "lables1 = []\n",
    "for i in test_ds['sentiment']:\n",
    "    if i == 'positive':\n",
    "        lables1.append(0)\n",
    "    elif i == 'negative':\n",
    "        lables1.append(1)\n",
    "    else:\n",
    "        lables1.append(2)"
   ]
  },
  {
   "cell_type": "code",
   "execution_count": 18,
   "id": "4cbae049",
   "metadata": {},
   "outputs": [
    {
     "data": {
      "text/plain": [
       "array([2, 0, 1, ..., 2, 2, 2])"
      ]
     },
     "execution_count": 18,
     "metadata": {},
     "output_type": "execute_result"
    }
   ],
   "source": [
    "lables1 = np.array(lables1)\n",
    "lables1"
   ]
  },
  {
   "cell_type": "code",
   "execution_count": null,
   "id": "2b094a07",
   "metadata": {},
   "outputs": [],
   "source": [
    "# Converting data into array for text processing"
   ]
  },
  {
   "cell_type": "code",
   "execution_count": 19,
   "id": "66c05c7d",
   "metadata": {},
   "outputs": [],
   "source": [
    "X_train = np.array(train_ds['text'].tolist())\n",
    "y_train = lables\n",
    "X_test = np.array(test_ds['text'].tolist())\n",
    "y_test = lables1"
   ]
  },
  {
   "cell_type": "code",
   "execution_count": 20,
   "id": "cb82a779",
   "metadata": {},
   "outputs": [
    {
     "data": {
      "text/plain": [
       "array([' I`d have responded, if I were going',\n",
       "       ' Sooo SAD I will miss you here in San Diego!!!',\n",
       "       'my boss is bullying me...', ...,\n",
       "       ' Yay good for both of you. Enjoy the break - you probably need it after such hectic weekend  Take care hun xxxx',\n",
       "       ' But it was worth it  ****.',\n",
       "       '   All this flirting going on - The ATG smiles. Yay.  ((hugs))'],\n",
       "      dtype='<U159')"
      ]
     },
     "execution_count": 20,
     "metadata": {},
     "output_type": "execute_result"
    }
   ],
   "source": [
    "X_train"
   ]
  },
  {
   "cell_type": "code",
   "execution_count": 21,
   "id": "e8b42ee5",
   "metadata": {},
   "outputs": [
    {
     "data": {
      "text/plain": [
       "array([2, 1, 1, ..., 0, 0, 2])"
      ]
     },
     "execution_count": 21,
     "metadata": {},
     "output_type": "execute_result"
    }
   ],
   "source": [
    "y_train"
   ]
  },
  {
   "cell_type": "markdown",
   "id": "a3927414",
   "metadata": {},
   "source": [
    "### Model Building"
   ]
  },
  {
   "cell_type": "code",
   "execution_count": 22,
   "id": "ccc2297a",
   "metadata": {},
   "outputs": [],
   "source": [
    "tokenize = Tokenizer() # initializing object"
   ]
  },
  {
   "cell_type": "code",
   "execution_count": 23,
   "id": "cd868cdd",
   "metadata": {},
   "outputs": [],
   "source": [
    "tokenize.fit_on_texts(X_train) # fitting data fro train & test\n",
    "tokenize.fit_on_texts(X_test)"
   ]
  },
  {
   "cell_type": "code",
   "execution_count": 24,
   "id": "34fc103d",
   "metadata": {},
   "outputs": [
    {
     "data": {
      "text/plain": [
       "28615"
      ]
     },
     "execution_count": 24,
     "metadata": {},
     "output_type": "execute_result"
    }
   ],
   "source": [
    "text_size = len(tokenize.word_index)+1  # TChecks the vocabulary legnth in total which is going to be i/p to the model\n",
    "text_size"
   ]
  },
  {
   "cell_type": "code",
   "execution_count": 25,
   "id": "67f9e543",
   "metadata": {},
   "outputs": [],
   "source": [
    "X_train_seq = tokenize.texts_to_sequences(X_train) # converting the text to the sequence \n",
    "X_test_seq = tokenize.texts_to_sequences(X_test)"
   ]
  },
  {
   "cell_type": "code",
   "execution_count": 26,
   "id": "c3fd82db",
   "metadata": {},
   "outputs": [
    {
     "data": {
      "text/plain": [
       "35"
      ]
     },
     "execution_count": 26,
     "metadata": {},
     "output_type": "execute_result"
    }
   ],
   "source": [
    "maxlen_tr = max(len(seq) for seq in X_train_seq)  # finding the max length sequence \n",
    "maxlen_tr"
   ]
  },
  {
   "cell_type": "code",
   "execution_count": 27,
   "id": "16ac3dfa",
   "metadata": {},
   "outputs": [
    {
     "data": {
      "text/plain": [
       "32"
      ]
     },
     "execution_count": 27,
     "metadata": {},
     "output_type": "execute_result"
    }
   ],
   "source": [
    "maxlen_ts = max(len(seq) for seq in X_test_seq)\n",
    "maxlen_ts"
   ]
  },
  {
   "cell_type": "code",
   "execution_count": 28,
   "id": "c80fd8a9",
   "metadata": {},
   "outputs": [],
   "source": [
    "X_train_pad = sequence.pad_sequences(X_train_seq, maxlen=35, padding='post') # padding the other seq to match the max length\n",
    "X_test_pad = sequence.pad_sequences(X_test_seq, maxlen=35, padding='post')"
   ]
  },
  {
   "cell_type": "code",
   "execution_count": 29,
   "id": "70753dcc",
   "metadata": {},
   "outputs": [
    {
     "data": {
      "text/plain": [
       "array([   1,  162,   19, 7713,   71,    1,  151,   49,    0,    0,    0,\n",
       "          0,    0,    0,    0,    0,    0,    0,    0,    0,    0,    0,\n",
       "          0,    0,    0,    0,    0,    0,    0,    0,    0,    0,    0,\n",
       "          0,    0])"
      ]
     },
     "execution_count": 29,
     "metadata": {},
     "output_type": "execute_result"
    }
   ],
   "source": [
    "X_train_pad[0]"
   ]
  },
  {
   "cell_type": "code",
   "execution_count": 30,
   "id": "f0cf169d",
   "metadata": {},
   "outputs": [
    {
     "data": {
      "text/plain": [
       "(27481, 35)"
      ]
     },
     "execution_count": 30,
     "metadata": {},
     "output_type": "execute_result"
    }
   ],
   "source": [
    "X_train_pad.shape"
   ]
  },
  {
   "cell_type": "code",
   "execution_count": 31,
   "id": "4358c29a",
   "metadata": {},
   "outputs": [],
   "source": [
    "y_train = to_categorical(y_train,3) # coverting the labels to the catagorical to math the features\n",
    "y_test = to_categorical(y_test,3)"
   ]
  },
  {
   "cell_type": "markdown",
   "id": "3f4508ac",
   "metadata": {},
   "source": [
    "#### Simple RNN"
   ]
  },
  {
   "cell_type": "code",
   "execution_count": 32,
   "id": "58b23407",
   "metadata": {},
   "outputs": [
    {
     "name": "stdout",
     "output_type": "stream",
     "text": [
      "WARNING:tensorflow:From C:\\Users\\Prerana\\anaconda3\\Lib\\site-packages\\keras\\src\\backend.py:873: The name tf.get_default_graph is deprecated. Please use tf.compat.v1.get_default_graph instead.\n",
      "\n"
     ]
    }
   ],
   "source": [
    "# The output_dim and input to RNN are intutive values after much trials and errors\n",
    "# Softmax activation is used for better calculations \n",
    "model = Sequential([\n",
    "        Embedding(input_dim=text_size, output_dim=10, input_length=35),\n",
    "        SimpleRNN(25, return_sequences=False),\n",
    "        Dense(3, activation='softmax')\n",
    "])"
   ]
  },
  {
   "cell_type": "code",
   "execution_count": 33,
   "id": "01f2ec57",
   "metadata": {},
   "outputs": [
    {
     "name": "stdout",
     "output_type": "stream",
     "text": [
      "WARNING:tensorflow:From C:\\Users\\Prerana\\anaconda3\\Lib\\site-packages\\keras\\src\\optimizers\\__init__.py:309: The name tf.train.Optimizer is deprecated. Please use tf.compat.v1.train.Optimizer instead.\n",
      "\n"
     ]
    }
   ],
   "source": [
    "model.compile(optimizer='adam', loss='categorical_crossentropy', metrics=['accuracy'])"
   ]
  },
  {
   "cell_type": "code",
   "execution_count": 34,
   "id": "e821a4d8",
   "metadata": {},
   "outputs": [
    {
     "name": "stdout",
     "output_type": "stream",
     "text": [
      "Epoch 1/10\n",
      "WARNING:tensorflow:From C:\\Users\\Prerana\\anaconda3\\Lib\\site-packages\\keras\\src\\utils\\tf_utils.py:492: The name tf.ragged.RaggedTensorValue is deprecated. Please use tf.compat.v1.ragged.RaggedTensorValue instead.\n",
      "\n",
      "WARNING:tensorflow:From C:\\Users\\Prerana\\anaconda3\\Lib\\site-packages\\keras\\src\\engine\\base_layer_utils.py:384: The name tf.executing_eagerly_outside_functions is deprecated. Please use tf.compat.v1.executing_eagerly_outside_functions instead.\n",
      "\n",
      "859/859 [==============================] - 24s 19ms/step - loss: 0.9962 - accuracy: 0.4946 - val_loss: 0.7590 - val_accuracy: 0.7213\n",
      "Epoch 2/10\n",
      "859/859 [==============================] - 14s 16ms/step - loss: 0.7032 - accuracy: 0.7032 - val_loss: 0.5824 - val_accuracy: 0.7715\n",
      "Epoch 3/10\n",
      "859/859 [==============================] - 14s 16ms/step - loss: 0.4933 - accuracy: 0.8111 - val_loss: 0.5998 - val_accuracy: 0.7564\n",
      "Epoch 4/10\n",
      "859/859 [==============================] - 14s 16ms/step - loss: 0.3403 - accuracy: 0.8790 - val_loss: 0.6773 - val_accuracy: 0.7418\n",
      "Epoch 5/10\n",
      "859/859 [==============================] - 14s 16ms/step - loss: 0.2454 - accuracy: 0.9178 - val_loss: 0.7768 - val_accuracy: 0.7315\n",
      "Epoch 6/10\n",
      "859/859 [==============================] - 13s 15ms/step - loss: 0.1913 - accuracy: 0.9363 - val_loss: 0.8605 - val_accuracy: 0.7192\n",
      "Epoch 7/10\n",
      "859/859 [==============================] - 13s 15ms/step - loss: 0.1495 - accuracy: 0.9519 - val_loss: 0.9111 - val_accuracy: 0.7175\n",
      "Epoch 8/10\n",
      "859/859 [==============================] - 13s 15ms/step - loss: 0.1238 - accuracy: 0.9599 - val_loss: 0.9922 - val_accuracy: 0.7148\n",
      "Epoch 9/10\n",
      "859/859 [==============================] - 13s 15ms/step - loss: 0.1050 - accuracy: 0.9667 - val_loss: 0.9984 - val_accuracy: 0.7032\n",
      "Epoch 10/10\n",
      "859/859 [==============================] - 13s 15ms/step - loss: 0.0923 - accuracy: 0.9697 - val_loss: 1.1107 - val_accuracy: 0.7163\n"
     ]
    }
   ],
   "source": [
    "history = model.fit(X_train_pad, y_train, epochs=10, validation_data=(X_test_pad, y_test))"
   ]
  },
  {
   "cell_type": "markdown",
   "id": "247b7748",
   "metadata": {},
   "source": [
    "##### As above model has giving accuracy of around 71%, I have also tried some more data processing below to get more better accuracy."
   ]
  },
  {
   "cell_type": "code",
   "execution_count": 90,
   "id": "0c0162a6",
   "metadata": {},
   "outputs": [],
   "source": [
    "# Using NLTK to preprocess the text for get more optimized output for better accuracy"
   ]
  },
  {
   "cell_type": "code",
   "execution_count": 35,
   "id": "c57b4b4e",
   "metadata": {},
   "outputs": [
    {
     "name": "stderr",
     "output_type": "stream",
     "text": [
      "[nltk_data] Downloading package stopwords to\n",
      "[nltk_data]     C:\\Users\\Prerana\\AppData\\Roaming\\nltk_data...\n",
      "[nltk_data]   Package stopwords is already up-to-date!\n",
      "[nltk_data] Downloading package punkt to\n",
      "[nltk_data]     C:\\Users\\Prerana\\AppData\\Roaming\\nltk_data...\n",
      "[nltk_data]   Package punkt is already up-to-date!\n"
     ]
    },
    {
     "data": {
      "text/plain": [
       "True"
      ]
     },
     "execution_count": 35,
     "metadata": {},
     "output_type": "execute_result"
    }
   ],
   "source": [
    "from nltk.tokenize import word_tokenize # to make word tokens from text sentences\n",
    "from nltk.corpus import stopwords  # to remove stopwords\n",
    "from nltk.stem import SnowballStemmer # to stem the word to make compact word\n",
    "from nltk.stem import LancasterStemmer\n",
    "from nltk.stem.wordnet import WordNetLemmatizer \n",
    "from string import punctuation \n",
    "import nltk\n",
    "nltk.download('stopwords')\n",
    "nltk.download('punkt')"
   ]
  },
  {
   "cell_type": "code",
   "execution_count": 36,
   "id": "da3cf21a",
   "metadata": {},
   "outputs": [
    {
     "data": {
      "text/html": [
       "<div>\n",
       "<style scoped>\n",
       "    .dataframe tbody tr th:only-of-type {\n",
       "        vertical-align: middle;\n",
       "    }\n",
       "\n",
       "    .dataframe tbody tr th {\n",
       "        vertical-align: top;\n",
       "    }\n",
       "\n",
       "    .dataframe thead th {\n",
       "        text-align: right;\n",
       "    }\n",
       "</style>\n",
       "<table border=\"1\" class=\"dataframe\">\n",
       "  <thead>\n",
       "    <tr style=\"text-align: right;\">\n",
       "      <th></th>\n",
       "      <th>text</th>\n",
       "      <th>sentiment</th>\n",
       "    </tr>\n",
       "  </thead>\n",
       "  <tbody>\n",
       "    <tr>\n",
       "      <th>0</th>\n",
       "      <td>I`d have responded, if I were going</td>\n",
       "      <td>neutral</td>\n",
       "    </tr>\n",
       "    <tr>\n",
       "      <th>1</th>\n",
       "      <td>Sooo SAD I will miss you here in San Diego!!!</td>\n",
       "      <td>negative</td>\n",
       "    </tr>\n",
       "    <tr>\n",
       "      <th>2</th>\n",
       "      <td>my boss is bullying me...</td>\n",
       "      <td>negative</td>\n",
       "    </tr>\n",
       "    <tr>\n",
       "      <th>3</th>\n",
       "      <td>what interview! leave me alone</td>\n",
       "      <td>negative</td>\n",
       "    </tr>\n",
       "    <tr>\n",
       "      <th>4</th>\n",
       "      <td>Sons of ****, why couldn`t they put them on t...</td>\n",
       "      <td>negative</td>\n",
       "    </tr>\n",
       "  </tbody>\n",
       "</table>\n",
       "</div>"
      ],
      "text/plain": [
       "                                                text sentiment\n",
       "0                I`d have responded, if I were going   neutral\n",
       "1      Sooo SAD I will miss you here in San Diego!!!  negative\n",
       "2                          my boss is bullying me...  negative\n",
       "3                     what interview! leave me alone  negative\n",
       "4   Sons of ****, why couldn`t they put them on t...  negative"
      ]
     },
     "execution_count": 36,
     "metadata": {},
     "output_type": "execute_result"
    }
   ],
   "source": [
    "train_ds.head() # previous train data"
   ]
  },
  {
   "cell_type": "code",
   "execution_count": 37,
   "id": "6c57944a",
   "metadata": {},
   "outputs": [
    {
     "data": {
      "text/html": [
       "<div>\n",
       "<style scoped>\n",
       "    .dataframe tbody tr th:only-of-type {\n",
       "        vertical-align: middle;\n",
       "    }\n",
       "\n",
       "    .dataframe tbody tr th {\n",
       "        vertical-align: top;\n",
       "    }\n",
       "\n",
       "    .dataframe thead th {\n",
       "        text-align: right;\n",
       "    }\n",
       "</style>\n",
       "<table border=\"1\" class=\"dataframe\">\n",
       "  <thead>\n",
       "    <tr style=\"text-align: right;\">\n",
       "      <th></th>\n",
       "      <th>text</th>\n",
       "      <th>sentiment</th>\n",
       "    </tr>\n",
       "  </thead>\n",
       "  <tbody>\n",
       "    <tr>\n",
       "      <th>1</th>\n",
       "      <td>Sooo SAD I will miss you here in San Diego!!!</td>\n",
       "      <td>negative</td>\n",
       "    </tr>\n",
       "    <tr>\n",
       "      <th>2</th>\n",
       "      <td>my boss is bullying me...</td>\n",
       "      <td>negative</td>\n",
       "    </tr>\n",
       "    <tr>\n",
       "      <th>3</th>\n",
       "      <td>what interview! leave me alone</td>\n",
       "      <td>negative</td>\n",
       "    </tr>\n",
       "    <tr>\n",
       "      <th>4</th>\n",
       "      <td>Sons of ****, why couldn`t they put them on t...</td>\n",
       "      <td>negative</td>\n",
       "    </tr>\n",
       "    <tr>\n",
       "      <th>6</th>\n",
       "      <td>2am feedings for the baby are fun when he is a...</td>\n",
       "      <td>positive</td>\n",
       "    </tr>\n",
       "  </tbody>\n",
       "</table>\n",
       "</div>"
      ],
      "text/plain": [
       "                                                text sentiment\n",
       "1      Sooo SAD I will miss you here in San Diego!!!  negative\n",
       "2                          my boss is bullying me...  negative\n",
       "3                     what interview! leave me alone  negative\n",
       "4   Sons of ****, why couldn`t they put them on t...  negative\n",
       "6  2am feedings for the baby are fun when he is a...  positive"
      ]
     },
     "execution_count": 37,
     "metadata": {},
     "output_type": "execute_result"
    }
   ],
   "source": [
    "# Dropping the 'Neutral' sentiments as positive and negative tweets are more enough to know about sentiments. \n",
    "tr_ds = train_ds[train_ds['sentiment'] != 'neutral']\n",
    "te_ds = test_ds[test_ds['sentiment'] != 'neutral']\n",
    "tr_ds.shape\n",
    "tr_ds.head()"
   ]
  },
  {
   "cell_type": "code",
   "execution_count": 91,
   "id": "33d67fbb",
   "metadata": {},
   "outputs": [],
   "source": [
    "# Data precessing again to make the dataset to feed as input to model same as above"
   ]
  },
  {
   "cell_type": "code",
   "execution_count": 38,
   "id": "e7327054",
   "metadata": {},
   "outputs": [],
   "source": [
    "sent = []\n",
    "for i in tr_ds['sentiment']:\n",
    "    if i == 'positive':\n",
    "        sent.append(0)\n",
    "    else:\n",
    "        sent.append(1) "
   ]
  },
  {
   "cell_type": "code",
   "execution_count": 39,
   "id": "c878158b",
   "metadata": {},
   "outputs": [],
   "source": [
    "sent1 = []\n",
    "for i in te_ds['sentiment']:\n",
    "    if i == 'positive':\n",
    "        sent1.append(0)\n",
    "    else:\n",
    "        sent1.append(1) "
   ]
  },
  {
   "cell_type": "code",
   "execution_count": 40,
   "id": "6ccb311b",
   "metadata": {},
   "outputs": [],
   "source": [
    "tr_ds['sentiment'] = sent\n",
    "te_ds['sentiment'] = sent1"
   ]
  },
  {
   "cell_type": "code",
   "execution_count": 41,
   "id": "9e22bd40",
   "metadata": {},
   "outputs": [
    {
     "data": {
      "text/html": [
       "<div>\n",
       "<style scoped>\n",
       "    .dataframe tbody tr th:only-of-type {\n",
       "        vertical-align: middle;\n",
       "    }\n",
       "\n",
       "    .dataframe tbody tr th {\n",
       "        vertical-align: top;\n",
       "    }\n",
       "\n",
       "    .dataframe thead th {\n",
       "        text-align: right;\n",
       "    }\n",
       "</style>\n",
       "<table border=\"1\" class=\"dataframe\">\n",
       "  <thead>\n",
       "    <tr style=\"text-align: right;\">\n",
       "      <th></th>\n",
       "      <th>text</th>\n",
       "      <th>sentiment</th>\n",
       "    </tr>\n",
       "  </thead>\n",
       "  <tbody>\n",
       "    <tr>\n",
       "      <th>1</th>\n",
       "      <td>Sooo SAD I will miss you here in San Diego!!!</td>\n",
       "      <td>1</td>\n",
       "    </tr>\n",
       "    <tr>\n",
       "      <th>2</th>\n",
       "      <td>my boss is bullying me...</td>\n",
       "      <td>1</td>\n",
       "    </tr>\n",
       "    <tr>\n",
       "      <th>3</th>\n",
       "      <td>what interview! leave me alone</td>\n",
       "      <td>1</td>\n",
       "    </tr>\n",
       "    <tr>\n",
       "      <th>4</th>\n",
       "      <td>Sons of ****, why couldn`t they put them on t...</td>\n",
       "      <td>1</td>\n",
       "    </tr>\n",
       "    <tr>\n",
       "      <th>6</th>\n",
       "      <td>2am feedings for the baby are fun when he is a...</td>\n",
       "      <td>0</td>\n",
       "    </tr>\n",
       "  </tbody>\n",
       "</table>\n",
       "</div>"
      ],
      "text/plain": [
       "                                                text  sentiment\n",
       "1      Sooo SAD I will miss you here in San Diego!!!          1\n",
       "2                          my boss is bullying me...          1\n",
       "3                     what interview! leave me alone          1\n",
       "4   Sons of ****, why couldn`t they put them on t...          1\n",
       "6  2am feedings for the baby are fun when he is a...          0"
      ]
     },
     "execution_count": 41,
     "metadata": {},
     "output_type": "execute_result"
    }
   ],
   "source": [
    "tr_ds.head()"
   ]
  },
  {
   "cell_type": "code",
   "execution_count": 42,
   "id": "90037e3e",
   "metadata": {},
   "outputs": [],
   "source": [
    "# Preprocessing the text by removing unnecessory data to make the valid input\n",
    "\n",
    "stuff_to_be_removed = list(stopwords.words('english')) + list(punctuation)\n",
    "\n",
    "def textprocessor(text):\n",
    "    text = str(text)\n",
    "    text = text.lower()   # Converts all uppercase letters to lowercase\n",
    "    text = re.sub(r\"https\\S+|www\\S+|https\\S+\",\" \",text) # Remove all links from dataset\n",
    "    text = re.sub(\"(\\\\d|\\\\W)+\",\" \",text) \n",
    "    text = re.sub(r'\\@\\w+|\\#',\" \",text)   # Remove # and @ symbols from text\n",
    "    text = re.sub(r'[^\\w\\s\\`]',\" \",text)  # Remove other symbols like ^ except '\n",
    "    text_tokens = word_tokenize(text)\n",
    "    lem = SnowballStemmer('english')\n",
    "    text = [lem.stem(word) for word in text_tokens if not word in stuff_to_be_removed]\n",
    "    text1 = \" \".join(text)\n",
    "    return text1         "
   ]
  },
  {
   "cell_type": "code",
   "execution_count": 65,
   "id": "8d278ce8",
   "metadata": {},
   "outputs": [],
   "source": [
    "tr_ds['text'] = tr_ds['text'].apply(textprocessor)\n",
    "te_ds['text'] = te_ds['text'].apply(textprocessor)"
   ]
  },
  {
   "cell_type": "code",
   "execution_count": 66,
   "id": "8870c2d9",
   "metadata": {},
   "outputs": [
    {
     "data": {
      "text/plain": [
       "(3385, 2)"
      ]
     },
     "execution_count": 66,
     "metadata": {},
     "output_type": "execute_result"
    }
   ],
   "source": [
    "te_ds.shape"
   ]
  },
  {
   "cell_type": "code",
   "execution_count": 67,
   "id": "b6d9e60a",
   "metadata": {},
   "outputs": [
    {
     "data": {
      "text/plain": [
       "(16363, 2)"
      ]
     },
     "execution_count": 67,
     "metadata": {},
     "output_type": "execute_result"
    }
   ],
   "source": [
    "tr_ds.shape"
   ]
  },
  {
   "cell_type": "code",
   "execution_count": 68,
   "id": "32dec369",
   "metadata": {},
   "outputs": [],
   "source": [
    "x_tr = np.array(tr_ds['text'].tolist())\n",
    "y_tr = np.array(tr_ds['sentiment'].tolist())\n",
    "x_te = np.array(te_ds['text'].tolist())\n",
    "y_te = np.array(te_ds['sentiment'].tolist())"
   ]
  },
  {
   "cell_type": "code",
   "execution_count": 69,
   "id": "d84a2973",
   "metadata": {},
   "outputs": [
    {
     "data": {
      "text/plain": [
       "(3385,)"
      ]
     },
     "execution_count": 69,
     "metadata": {},
     "output_type": "execute_result"
    }
   ],
   "source": [
    "x_te.shape"
   ]
  },
  {
   "cell_type": "code",
   "execution_count": 70,
   "id": "a775917f",
   "metadata": {},
   "outputs": [],
   "source": [
    "tokenize.fit_on_texts(x_tr)\n",
    "tokenize.fit_on_texts(x_te)"
   ]
  },
  {
   "cell_type": "code",
   "execution_count": 71,
   "id": "7f635295",
   "metadata": {},
   "outputs": [
    {
     "data": {
      "text/plain": [
       "33745"
      ]
     },
     "execution_count": 71,
     "metadata": {},
     "output_type": "execute_result"
    }
   ],
   "source": [
    "vocab_size = len(tokenize.word_index)+1\n",
    "vocab_size"
   ]
  },
  {
   "cell_type": "code",
   "execution_count": 72,
   "id": "ef5999a6",
   "metadata": {},
   "outputs": [],
   "source": [
    "x_tr_sq = tokenize.texts_to_sequences(x_tr)\n",
    "x_te_sq = tokenize.texts_to_sequences(x_te)"
   ]
  },
  {
   "cell_type": "code",
   "execution_count": 73,
   "id": "612019a3",
   "metadata": {},
   "outputs": [
    {
     "data": {
      "text/plain": [
       "34"
      ]
     },
     "execution_count": 73,
     "metadata": {},
     "output_type": "execute_result"
    }
   ],
   "source": [
    "max_len = max(len(seq) for seq in x_tr_sq)\n",
    "max_len"
   ]
  },
  {
   "cell_type": "code",
   "execution_count": 74,
   "id": "a8740b41",
   "metadata": {},
   "outputs": [],
   "source": [
    "x_tr_pad = sequence.pad_sequences(x_tr_sq, maxlen=max_len, padding='post')\n",
    "x_te_pad = sequence.pad_sequences(x_te_sq, maxlen=max_len, padding='post')"
   ]
  },
  {
   "cell_type": "code",
   "execution_count": 75,
   "id": "fbaeb9e8",
   "metadata": {},
   "outputs": [
    {
     "data": {
      "text/plain": [
       "array([[  342,    69,    36, ...,     0,     0,     0],\n",
       "       [ 1390,  5802,     0, ...,     0,     0,     0],\n",
       "       [ 1029,   388,   699, ...,     0,     0,     0],\n",
       "       ...,\n",
       "       [  321, 15062,  2214, ...,     0,     0,     0],\n",
       "       [  184,    10,   189, ...,     0,     0,     0],\n",
       "       [  617,     0,     0, ...,     0,     0,     0]])"
      ]
     },
     "execution_count": 75,
     "metadata": {},
     "output_type": "execute_result"
    }
   ],
   "source": [
    "x_tr_pad"
   ]
  },
  {
   "cell_type": "code",
   "execution_count": 76,
   "id": "95e76866",
   "metadata": {},
   "outputs": [],
   "source": [
    "y_tr = to_categorical(y_tr,2)\n",
    "y_te = to_categorical(y_te,2)"
   ]
  },
  {
   "cell_type": "code",
   "execution_count": 83,
   "id": "31c20a97",
   "metadata": {},
   "outputs": [],
   "source": [
    "model = Sequential([\n",
    "        Embedding(input_dim=vocab_size, output_dim=5, input_length=max_len),\n",
    "        SimpleRNN(20, return_sequences=False),\n",
    "        Dense(2, activation='softmax')\n",
    "])"
   ]
  },
  {
   "cell_type": "code",
   "execution_count": 84,
   "id": "3829d022",
   "metadata": {},
   "outputs": [],
   "source": [
    "model.compile(optimizer='adam', loss='categorical_crossentropy', metrics=['accuracy'])"
   ]
  },
  {
   "cell_type": "code",
   "execution_count": 85,
   "id": "3cf8c8f8",
   "metadata": {},
   "outputs": [
    {
     "name": "stdout",
     "output_type": "stream",
     "text": [
      "Epoch 1/10\n",
      "512/512 [==============================] - 12s 10ms/step - loss: 0.4978 - accuracy: 0.7481 - val_loss: 0.2764 - val_accuracy: 0.9093\n",
      "Epoch 2/10\n",
      "512/512 [==============================] - 5s 9ms/step - loss: 0.2767 - accuracy: 0.8968 - val_loss: 0.3443 - val_accuracy: 0.9134\n",
      "Epoch 3/10\n",
      "512/512 [==============================] - 5s 9ms/step - loss: 0.1929 - accuracy: 0.9338 - val_loss: 0.4889 - val_accuracy: 0.5312\n",
      "Epoch 4/10\n",
      "512/512 [==============================] - 5s 9ms/step - loss: 0.1413 - accuracy: 0.9543 - val_loss: 0.2474 - val_accuracy: 0.9087\n",
      "Epoch 5/10\n",
      "512/512 [==============================] - 5s 9ms/step - loss: 0.1131 - accuracy: 0.9636 - val_loss: 0.3068 - val_accuracy: 0.9022\n",
      "Epoch 6/10\n",
      "512/512 [==============================] - 5s 9ms/step - loss: 0.0986 - accuracy: 0.9687 - val_loss: 0.2842 - val_accuracy: 0.9081\n",
      "Epoch 7/10\n",
      "512/512 [==============================] - 5s 9ms/step - loss: 0.0812 - accuracy: 0.9749 - val_loss: 0.2649 - val_accuracy: 0.9007\n",
      "Epoch 8/10\n",
      "512/512 [==============================] - 5s 10ms/step - loss: 0.0694 - accuracy: 0.9790 - val_loss: 0.3138 - val_accuracy: 0.9016\n",
      "Epoch 9/10\n",
      "512/512 [==============================] - 5s 9ms/step - loss: 0.0584 - accuracy: 0.9833 - val_loss: 2.0475 - val_accuracy: 0.5191\n",
      "Epoch 10/10\n",
      "512/512 [==============================] - 5s 9ms/step - loss: 0.0545 - accuracy: 0.9835 - val_loss: 0.3729 - val_accuracy: 0.9034\n"
     ]
    }
   ],
   "source": [
    "hist = model.fit(x_tr_pad, y_tr, epochs=10, validation_data=(x_te_pad,y_te))"
   ]
  },
  {
   "cell_type": "markdown",
   "id": "c714d497",
   "metadata": {},
   "source": [
    "#### After doing above preprocessing again, achived above good testing accuracy of 90%"
   ]
  },
  {
   "cell_type": "code",
   "execution_count": 92,
   "id": "e0129b66",
   "metadata": {},
   "outputs": [],
   "source": [
    "# Working the same with LSTM to see the accuracy"
   ]
  },
  {
   "cell_type": "markdown",
   "id": "318c5d8b",
   "metadata": {},
   "source": [
    "### Model LSTM"
   ]
  },
  {
   "cell_type": "code",
   "execution_count": 58,
   "id": "3681ad1b",
   "metadata": {},
   "outputs": [],
   "source": [
    "from tensorflow.keras.layers import Dense, Embedding, LSTM, SpatialDropout1D"
   ]
  },
  {
   "cell_type": "code",
   "execution_count": 59,
   "id": "fa9039d1",
   "metadata": {},
   "outputs": [],
   "source": [
    "# The output_dim and input to LSTM, dropout are intutive values after much trials and errors\n",
    "# Softmax activation is used for better calculations \n",
    "model = Sequential([\n",
    "    Embedding(input_dim=vocab_size, output_dim=128, input_length=max_len),\n",
    "    SpatialDropout1D(0.4),\n",
    "    LSTM(196, dropout=0.2, recurrent_dropout=0.2),\n",
    "    Dense(2, activation='softmax'), \n",
    "])"
   ]
  },
  {
   "cell_type": "code",
   "execution_count": 60,
   "id": "c4d424c6",
   "metadata": {},
   "outputs": [],
   "source": [
    "model.compile(optimizer='adam', loss='categorical_crossentropy', metrics=['accuracy'])"
   ]
  },
  {
   "cell_type": "code",
   "execution_count": 61,
   "id": "05844e6d",
   "metadata": {},
   "outputs": [
    {
     "name": "stdout",
     "output_type": "stream",
     "text": [
      "Epoch 1/40\n",
      "512/512 [==============================] - 98s 173ms/step - loss: 0.4876 - accuracy: 0.7334 - val_loss: 0.6028 - val_accuracy: 0.5439\n",
      "Epoch 2/40\n",
      "512/512 [==============================] - 84s 163ms/step - loss: 0.2761 - accuracy: 0.8931 - val_loss: 0.3900 - val_accuracy: 0.9297\n",
      "Epoch 3/40\n",
      "512/512 [==============================] - 85s 167ms/step - loss: 0.2120 - accuracy: 0.9251 - val_loss: 0.3296 - val_accuracy: 0.9238\n",
      "Epoch 4/40\n",
      "512/512 [==============================] - 89s 174ms/step - loss: 0.1720 - accuracy: 0.9427 - val_loss: 0.2591 - val_accuracy: 0.9140\n",
      "Epoch 5/40\n",
      "512/512 [==============================] - 94s 184ms/step - loss: 0.1457 - accuracy: 0.9499 - val_loss: 0.3142 - val_accuracy: 0.9120\n",
      "Epoch 6/40\n",
      "512/512 [==============================] - 91s 177ms/step - loss: 0.1280 - accuracy: 0.9561 - val_loss: 0.3301 - val_accuracy: 0.9140\n",
      "Epoch 7/40\n",
      "512/512 [==============================] - 92s 179ms/step - loss: 0.1157 - accuracy: 0.9614 - val_loss: 0.3257 - val_accuracy: 0.9126\n",
      "Epoch 8/40\n",
      "512/512 [==============================] - 92s 180ms/step - loss: 0.1030 - accuracy: 0.9664 - val_loss: 0.6210 - val_accuracy: 0.5326\n",
      "Epoch 9/40\n",
      "512/512 [==============================] - 90s 176ms/step - loss: 0.0938 - accuracy: 0.9693 - val_loss: 0.4237 - val_accuracy: 0.9066\n",
      "Epoch 10/40\n",
      "512/512 [==============================] - 92s 180ms/step - loss: 0.0925 - accuracy: 0.9691 - val_loss: 0.3481 - val_accuracy: 0.9072\n",
      "Epoch 11/40\n",
      "512/512 [==============================] - 88s 172ms/step - loss: 0.0828 - accuracy: 0.9723 - val_loss: 0.4249 - val_accuracy: 0.9105\n",
      "Epoch 12/40\n",
      "512/512 [==============================] - 87s 169ms/step - loss: 0.0786 - accuracy: 0.9722 - val_loss: 0.3938 - val_accuracy: 0.9084\n",
      "Epoch 13/40\n",
      "512/512 [==============================] - 87s 171ms/step - loss: 0.0711 - accuracy: 0.9740 - val_loss: 0.5990 - val_accuracy: 0.9069\n",
      "Epoch 14/40\n",
      "512/512 [==============================] - 87s 170ms/step - loss: 0.0603 - accuracy: 0.9793 - val_loss: 0.4396 - val_accuracy: 0.9061\n",
      "Epoch 15/40\n",
      "512/512 [==============================] - 94s 183ms/step - loss: 0.0574 - accuracy: 0.9787 - val_loss: 0.5588 - val_accuracy: 0.9069\n",
      "Epoch 16/40\n",
      "512/512 [==============================] - 89s 173ms/step - loss: 0.0533 - accuracy: 0.9795 - val_loss: 0.5105 - val_accuracy: 0.9040\n",
      "Epoch 17/40\n",
      "512/512 [==============================] - 90s 176ms/step - loss: 0.0521 - accuracy: 0.9801 - val_loss: 0.4589 - val_accuracy: 0.9093\n",
      "Epoch 18/40\n",
      "512/512 [==============================] - 88s 172ms/step - loss: 0.0443 - accuracy: 0.9822 - val_loss: 0.5358 - val_accuracy: 0.9043\n",
      "Epoch 19/40\n",
      "512/512 [==============================] - 88s 173ms/step - loss: 0.0506 - accuracy: 0.9825 - val_loss: 0.5732 - val_accuracy: 0.9046\n",
      "Epoch 20/40\n",
      "512/512 [==============================] - 90s 175ms/step - loss: 0.0452 - accuracy: 0.9842 - val_loss: 0.5334 - val_accuracy: 0.9064\n",
      "Epoch 21/40\n",
      "512/512 [==============================] - 92s 181ms/step - loss: 0.0385 - accuracy: 0.9856 - val_loss: 0.5695 - val_accuracy: 0.9001\n",
      "Epoch 22/40\n",
      "512/512 [==============================] - 92s 180ms/step - loss: 0.0375 - accuracy: 0.9858 - val_loss: 0.5687 - val_accuracy: 0.9037\n",
      "Epoch 23/40\n",
      "512/512 [==============================] - 93s 182ms/step - loss: 0.0362 - accuracy: 0.9864 - val_loss: 0.6083 - val_accuracy: 0.9034\n",
      "Epoch 24/40\n",
      "512/512 [==============================] - 91s 177ms/step - loss: 0.0381 - accuracy: 0.9861 - val_loss: 0.6171 - val_accuracy: 0.8966\n",
      "Epoch 25/40\n",
      "512/512 [==============================] - 92s 179ms/step - loss: 0.0346 - accuracy: 0.9880 - val_loss: 0.6235 - val_accuracy: 0.9031\n",
      "Epoch 26/40\n",
      "512/512 [==============================] - 93s 181ms/step - loss: 0.0322 - accuracy: 0.9880 - val_loss: 0.5964 - val_accuracy: 0.9007\n",
      "Epoch 27/40\n",
      "512/512 [==============================] - 90s 175ms/step - loss: 0.0289 - accuracy: 0.9894 - val_loss: 0.6011 - val_accuracy: 0.9031\n",
      "Epoch 28/40\n",
      "512/512 [==============================] - 89s 174ms/step - loss: 0.0278 - accuracy: 0.9900 - val_loss: 0.7190 - val_accuracy: 0.9043\n",
      "Epoch 29/40\n",
      "512/512 [==============================] - 88s 171ms/step - loss: 0.0256 - accuracy: 0.9906 - val_loss: 0.5776 - val_accuracy: 0.8978\n",
      "Epoch 30/40\n",
      "512/512 [==============================] - 89s 175ms/step - loss: 0.0267 - accuracy: 0.9902 - val_loss: 0.6053 - val_accuracy: 0.9004\n",
      "Epoch 31/40\n",
      "512/512 [==============================] - 89s 173ms/step - loss: 0.0235 - accuracy: 0.9919 - val_loss: 0.6951 - val_accuracy: 0.9031\n",
      "Epoch 32/40\n",
      "512/512 [==============================] - 90s 176ms/step - loss: 0.0250 - accuracy: 0.9912 - val_loss: 0.6174 - val_accuracy: 0.8981\n",
      "Epoch 33/40\n",
      "512/512 [==============================] - 94s 183ms/step - loss: 0.0213 - accuracy: 0.9929 - val_loss: 0.6635 - val_accuracy: 0.9016\n",
      "Epoch 34/40\n",
      "512/512 [==============================] - 92s 180ms/step - loss: 0.0224 - accuracy: 0.9922 - val_loss: 0.6163 - val_accuracy: 0.9004\n",
      "Epoch 35/40\n",
      "512/512 [==============================] - 90s 175ms/step - loss: 0.0218 - accuracy: 0.9917 - val_loss: 0.6688 - val_accuracy: 0.8999\n",
      "Epoch 36/40\n",
      "512/512 [==============================] - 91s 178ms/step - loss: 0.0206 - accuracy: 0.9922 - val_loss: 0.6271 - val_accuracy: 0.8954\n",
      "Epoch 37/40\n",
      "512/512 [==============================] - 82s 161ms/step - loss: 0.0226 - accuracy: 0.9923 - val_loss: 0.6458 - val_accuracy: 0.8957\n",
      "Epoch 38/40\n",
      "512/512 [==============================] - 78s 152ms/step - loss: 0.0189 - accuracy: 0.9928 - val_loss: 0.6920 - val_accuracy: 0.9034\n",
      "Epoch 39/40\n",
      "512/512 [==============================] - 82s 159ms/step - loss: 0.0176 - accuracy: 0.9930 - val_loss: 0.8389 - val_accuracy: 0.8978\n",
      "Epoch 40/40\n",
      "512/512 [==============================] - 82s 160ms/step - loss: 0.0171 - accuracy: 0.9938 - val_loss: 0.6399 - val_accuracy: 0.9004\n"
     ]
    }
   ],
   "source": [
    "hsty = model.fit(x_tr_pad, y_tr, epochs=40, batch_size=32, validation_data=(x_te_pad,y_te))"
   ]
  },
  {
   "cell_type": "markdown",
   "id": "f72da3e6",
   "metadata": {},
   "source": [
    "#### With LSTM aslo get the good accuray of 90%"
   ]
  },
  {
   "cell_type": "code",
   "execution_count": null,
   "id": "0bdd86d6",
   "metadata": {},
   "outputs": [],
   "source": []
  }
 ],
 "metadata": {
  "kernelspec": {
   "display_name": "Python 3 (ipykernel)",
   "language": "python",
   "name": "python3"
  },
  "language_info": {
   "codemirror_mode": {
    "name": "ipython",
    "version": 3
   },
   "file_extension": ".py",
   "mimetype": "text/x-python",
   "name": "python",
   "nbconvert_exporter": "python",
   "pygments_lexer": "ipython3",
   "version": "3.11.3"
  }
 },
 "nbformat": 4,
 "nbformat_minor": 5
}
